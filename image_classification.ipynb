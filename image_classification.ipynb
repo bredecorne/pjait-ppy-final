{
 "cells": [
  {
   "metadata": {},
   "cell_type": "markdown",
   "source": "# Klasyfikacja obrazów z użyciem Keras",
   "id": "99e022cfd3d16e79"
  },
  {
   "metadata": {
    "ExecuteTime": {
     "end_time": "2024-06-06T21:06:01.897339Z",
     "start_time": "2024-06-06T21:05:57.911031Z"
    }
   },
   "cell_type": "code",
   "source": [
    "import numpy as np\n",
    "import pandas as pd\n",
    "\n",
    "from tqdm import *\n",
    "from keras import *\n",
    "from sklearn.model_selection import train_test_split\n",
    "\n",
    "from matplotlib import pyplot as plt"
   ],
   "id": "4a455d19e192a8ac",
   "outputs": [],
   "execution_count": 2
  },
  {
   "metadata": {},
   "cell_type": "markdown",
   "source": [
    "### Wyodrębnienie zbioru treningowego i walidacyjnego\n",
    "#### Wczytanie zbioru danych za pomocą csv (zawierającego etykiety i ścieżki)"
   ],
   "id": "7599ce1001da109b"
  },
  {
   "metadata": {
    "ExecuteTime": {
     "end_time": "2024-06-06T21:06:01.926932Z",
     "start_time": "2024-06-06T21:06:01.898382Z"
    }
   },
   "cell_type": "code",
   "source": "train_df = pd.read_csv(\"sources/signs/Train.csv\")",
   "id": "35a219b6bb7b3664",
   "outputs": [],
   "execution_count": 3
  },
  {
   "metadata": {
    "ExecuteTime": {
     "end_time": "2024-06-06T21:06:11.923590Z",
     "start_time": "2024-06-06T21:06:01.927402Z"
    }
   },
   "cell_type": "code",
   "source": [
    "train_images = []\n",
    "\n",
    "for i in tqdm(range(train_df.shape[0])):\n",
    "    img = utils.load_img(\n",
    "        train_df['Path'][i],\n",
    "        target_size = (28,28,3) # Określa, że docelowe zdjęcie ma mieć 16 × 16 pikseli i 3 kanały kolorów (RGB)\n",
    "    )\n",
    "    img = utils.img_to_array(img) # Przekształca zdjęcie w formę tablicy numpy\n",
    "    img = img / 255 # Normalizuje wartość pikseli do zakresu 0-1\n",
    "    train_images.append(img)\n",
    "\n",
    "X = np.array(train_images)"
   ],
   "id": "71afa036d611a79f",
   "outputs": [
    {
     "name": "stderr",
     "output_type": "stream",
     "text": [
      "100%|██████████| 39209/39209 [00:09<00:00, 3997.09it/s]\n"
     ]
    }
   ],
   "execution_count": 4
  },
  {
   "metadata": {
    "ExecuteTime": {
     "end_time": "2024-06-06T21:06:11.930416Z",
     "start_time": "2024-06-06T21:06:11.925236Z"
    }
   },
   "cell_type": "code",
   "source": [
    "y = utils.to_categorical(\n",
    "    train_df[\"ClassId\"].values # ClassId zawiera z góry założone klasy zdjęć w zbiorze treningowym\n",
    ")"
   ],
   "id": "e6af10c77c23dc1b",
   "outputs": [],
   "execution_count": 5
  },
  {
   "metadata": {},
   "cell_type": "markdown",
   "source": "#### Wyodrębnienie podzbioru treningowego i walidującego",
   "id": "957042c2b3667322"
  },
  {
   "metadata": {
    "ExecuteTime": {
     "end_time": "2024-06-06T21:06:12.152592Z",
     "start_time": "2024-06-06T21:06:11.931081Z"
    }
   },
   "cell_type": "code",
   "source": "X_train, X_valid, y_train, y_valid = train_test_split(X, y)",
   "id": "883946a1c7ffc15c",
   "outputs": [],
   "execution_count": 6
  },
  {
   "metadata": {},
   "cell_type": "markdown",
   "source": "",
   "id": "8d387b5a5b00f898"
  },
  {
   "metadata": {},
   "cell_type": "markdown",
   "source": "### Przygotowanie modelu sieci neuronowej",
   "id": "962608b433686d2"
  },
  {
   "metadata": {},
   "cell_type": "markdown",
   "source": "![](https://blogger.googleusercontent.com/img/b/R29vZ2xl/AVvXsEhGzMoLJs7KifLcZp-wxKtYhrgl-dsbXlreDKQtrFLsYGipbklI1KKRGbT3ey7euqDxR-Z_VLZWjcGantWU6WUZoDACsQ0XeEHCQhVpANHIaTUhr5Z3IfaPfI6YEpOqPDCZlYqiLDapCBc/s1600/Capture.PNG)",
   "id": "5d1386c61e2a6f39"
  },
  {
   "metadata": {
    "ExecuteTime": {
     "end_time": "2024-06-06T21:06:12.175045Z",
     "start_time": "2024-06-06T21:06:12.153970Z"
    }
   },
   "cell_type": "code",
   "source": [
    "model = Sequential(\n",
    "    layers = \n",
    "        [layers.Conv2D(filters=32, kernel_size=(3, 3), activation='relu'),\n",
    "        layers.Conv2D(64, kernel_size=(3, 3), activation='relu'),\n",
    "        layers.MaxPooling2D(pool_size=(2, 2)),\n",
    "        layers.Flatten(),\n",
    "        layers.Dense(128, activation='relu'),\n",
    "        layers.Dense(43, activation='softmax')] # Zbiór danych zawiera założone 43 klasy\n",
    ")"
   ],
   "id": "ddd26573838c8717",
   "outputs": [],
   "execution_count": 7
  },
  {
   "metadata": {
    "ExecuteTime": {
     "end_time": "2024-06-06T21:06:12.255819Z",
     "start_time": "2024-06-06T21:06:12.176015Z"
    }
   },
   "cell_type": "code",
   "source": [
    "model.compile(\n",
    "    loss = losses.CategoricalCrossentropy(), # Funkcja straty\n",
    "    optimizer = 'Adam',\n",
    "    metrics= ['accuracy'] # Accuracy = Suma prawidłowych predykcje / Suma predykcji\n",
    ")"
   ],
   "id": "d08ffe778fb1ea49",
   "outputs": [],
   "execution_count": 8
  },
  {
   "metadata": {
    "ExecuteTime": {
     "end_time": "2024-06-06T21:06:12.268986Z",
     "start_time": "2024-06-06T21:06:12.256445Z"
    }
   },
   "cell_type": "code",
   "source": "model.summary()",
   "id": "b69b712102db138",
   "outputs": [
    {
     "data": {
      "text/plain": [
       "\u001B[1mModel: \"sequential\"\u001B[0m\n"
      ],
      "text/html": [
       "<pre style=\"white-space:pre;overflow-x:auto;line-height:normal;font-family:Menlo,'DejaVu Sans Mono',consolas,'Courier New',monospace\"><span style=\"font-weight: bold\">Model: \"sequential\"</span>\n",
       "</pre>\n"
      ]
     },
     "metadata": {},
     "output_type": "display_data"
    },
    {
     "data": {
      "text/plain": [
       "┏━━━━━━━━━━━━━━━━━━━━━━━━━━━━━━━━━┳━━━━━━━━━━━━━━━━━━━━━━━━┳━━━━━━━━━━━━━━━┓\n",
       "┃\u001B[1m \u001B[0m\u001B[1mLayer (type)                   \u001B[0m\u001B[1m \u001B[0m┃\u001B[1m \u001B[0m\u001B[1mOutput Shape          \u001B[0m\u001B[1m \u001B[0m┃\u001B[1m \u001B[0m\u001B[1m      Param #\u001B[0m\u001B[1m \u001B[0m┃\n",
       "┡━━━━━━━━━━━━━━━━━━━━━━━━━━━━━━━━━╇━━━━━━━━━━━━━━━━━━━━━━━━╇━━━━━━━━━━━━━━━┩\n",
       "│ conv2d (\u001B[38;5;33mConv2D\u001B[0m)                 │ ?                      │   \u001B[38;5;34m0\u001B[0m (unbuilt) │\n",
       "├─────────────────────────────────┼────────────────────────┼───────────────┤\n",
       "│ conv2d_1 (\u001B[38;5;33mConv2D\u001B[0m)               │ ?                      │   \u001B[38;5;34m0\u001B[0m (unbuilt) │\n",
       "├─────────────────────────────────┼────────────────────────┼───────────────┤\n",
       "│ max_pooling2d (\u001B[38;5;33mMaxPooling2D\u001B[0m)    │ ?                      │   \u001B[38;5;34m0\u001B[0m (unbuilt) │\n",
       "├─────────────────────────────────┼────────────────────────┼───────────────┤\n",
       "│ flatten (\u001B[38;5;33mFlatten\u001B[0m)               │ ?                      │   \u001B[38;5;34m0\u001B[0m (unbuilt) │\n",
       "├─────────────────────────────────┼────────────────────────┼───────────────┤\n",
       "│ dense (\u001B[38;5;33mDense\u001B[0m)                   │ ?                      │   \u001B[38;5;34m0\u001B[0m (unbuilt) │\n",
       "├─────────────────────────────────┼────────────────────────┼───────────────┤\n",
       "│ dense_1 (\u001B[38;5;33mDense\u001B[0m)                 │ ?                      │   \u001B[38;5;34m0\u001B[0m (unbuilt) │\n",
       "└─────────────────────────────────┴────────────────────────┴───────────────┘\n"
      ],
      "text/html": [
       "<pre style=\"white-space:pre;overflow-x:auto;line-height:normal;font-family:Menlo,'DejaVu Sans Mono',consolas,'Courier New',monospace\">┏━━━━━━━━━━━━━━━━━━━━━━━━━━━━━━━━━┳━━━━━━━━━━━━━━━━━━━━━━━━┳━━━━━━━━━━━━━━━┓\n",
       "┃<span style=\"font-weight: bold\"> Layer (type)                    </span>┃<span style=\"font-weight: bold\"> Output Shape           </span>┃<span style=\"font-weight: bold\">       Param # </span>┃\n",
       "┡━━━━━━━━━━━━━━━━━━━━━━━━━━━━━━━━━╇━━━━━━━━━━━━━━━━━━━━━━━━╇━━━━━━━━━━━━━━━┩\n",
       "│ conv2d (<span style=\"color: #0087ff; text-decoration-color: #0087ff\">Conv2D</span>)                 │ ?                      │   <span style=\"color: #00af00; text-decoration-color: #00af00\">0</span> (unbuilt) │\n",
       "├─────────────────────────────────┼────────────────────────┼───────────────┤\n",
       "│ conv2d_1 (<span style=\"color: #0087ff; text-decoration-color: #0087ff\">Conv2D</span>)               │ ?                      │   <span style=\"color: #00af00; text-decoration-color: #00af00\">0</span> (unbuilt) │\n",
       "├─────────────────────────────────┼────────────────────────┼───────────────┤\n",
       "│ max_pooling2d (<span style=\"color: #0087ff; text-decoration-color: #0087ff\">MaxPooling2D</span>)    │ ?                      │   <span style=\"color: #00af00; text-decoration-color: #00af00\">0</span> (unbuilt) │\n",
       "├─────────────────────────────────┼────────────────────────┼───────────────┤\n",
       "│ flatten (<span style=\"color: #0087ff; text-decoration-color: #0087ff\">Flatten</span>)               │ ?                      │   <span style=\"color: #00af00; text-decoration-color: #00af00\">0</span> (unbuilt) │\n",
       "├─────────────────────────────────┼────────────────────────┼───────────────┤\n",
       "│ dense (<span style=\"color: #0087ff; text-decoration-color: #0087ff\">Dense</span>)                   │ ?                      │   <span style=\"color: #00af00; text-decoration-color: #00af00\">0</span> (unbuilt) │\n",
       "├─────────────────────────────────┼────────────────────────┼───────────────┤\n",
       "│ dense_1 (<span style=\"color: #0087ff; text-decoration-color: #0087ff\">Dense</span>)                 │ ?                      │   <span style=\"color: #00af00; text-decoration-color: #00af00\">0</span> (unbuilt) │\n",
       "└─────────────────────────────────┴────────────────────────┴───────────────┘\n",
       "</pre>\n"
      ]
     },
     "metadata": {},
     "output_type": "display_data"
    },
    {
     "data": {
      "text/plain": [
       "\u001B[1m Total params: \u001B[0m\u001B[38;5;34m0\u001B[0m (0.00 B)\n"
      ],
      "text/html": [
       "<pre style=\"white-space:pre;overflow-x:auto;line-height:normal;font-family:Menlo,'DejaVu Sans Mono',consolas,'Courier New',monospace\"><span style=\"font-weight: bold\"> Total params: </span><span style=\"color: #00af00; text-decoration-color: #00af00\">0</span> (0.00 B)\n",
       "</pre>\n"
      ]
     },
     "metadata": {},
     "output_type": "display_data"
    },
    {
     "data": {
      "text/plain": [
       "\u001B[1m Trainable params: \u001B[0m\u001B[38;5;34m0\u001B[0m (0.00 B)\n"
      ],
      "text/html": [
       "<pre style=\"white-space:pre;overflow-x:auto;line-height:normal;font-family:Menlo,'DejaVu Sans Mono',consolas,'Courier New',monospace\"><span style=\"font-weight: bold\"> Trainable params: </span><span style=\"color: #00af00; text-decoration-color: #00af00\">0</span> (0.00 B)\n",
       "</pre>\n"
      ]
     },
     "metadata": {},
     "output_type": "display_data"
    },
    {
     "data": {
      "text/plain": [
       "\u001B[1m Non-trainable params: \u001B[0m\u001B[38;5;34m0\u001B[0m (0.00 B)\n"
      ],
      "text/html": [
       "<pre style=\"white-space:pre;overflow-x:auto;line-height:normal;font-family:Menlo,'DejaVu Sans Mono',consolas,'Courier New',monospace\"><span style=\"font-weight: bold\"> Non-trainable params: </span><span style=\"color: #00af00; text-decoration-color: #00af00\">0</span> (0.00 B)\n",
       "</pre>\n"
      ]
     },
     "metadata": {},
     "output_type": "display_data"
    }
   ],
   "execution_count": 9
  },
  {
   "metadata": {
    "ExecuteTime": {
     "end_time": "2024-06-06T21:06:58.983258Z",
     "start_time": "2024-06-06T21:06:12.270063Z"
    }
   },
   "cell_type": "code",
   "source": [
    "model.fit(\n",
    "    X_train,\n",
    "    y_train,\n",
    "    epochs= 3,\n",
    "    validation_data = (X_valid, y_valid)\n",
    ")"
   ],
   "id": "75d9df7282c6a534",
   "outputs": [
    {
     "name": "stdout",
     "output_type": "stream",
     "text": [
      "Epoch 1/3\n",
      "\u001B[1m919/919\u001B[0m \u001B[32m━━━━━━━━━━━━━━━━━━━━\u001B[0m\u001B[37m\u001B[0m \u001B[1m15s\u001B[0m 16ms/step - accuracy: 0.6159 - loss: 1.4883 - val_accuracy: 0.9570 - val_loss: 0.1687\n",
      "Epoch 2/3\n",
      "\u001B[1m919/919\u001B[0m \u001B[32m━━━━━━━━━━━━━━━━━━━━\u001B[0m\u001B[37m\u001B[0m \u001B[1m16s\u001B[0m 17ms/step - accuracy: 0.9667 - loss: 0.1207 - val_accuracy: 0.9724 - val_loss: 0.1044\n",
      "Epoch 3/3\n",
      "\u001B[1m919/919\u001B[0m \u001B[32m━━━━━━━━━━━━━━━━━━━━\u001B[0m\u001B[37m\u001B[0m \u001B[1m16s\u001B[0m 17ms/step - accuracy: 0.9832 - loss: 0.0544 - val_accuracy: 0.9705 - val_loss: 0.1082\n"
     ]
    },
    {
     "data": {
      "text/plain": [
       "<keras.src.callbacks.history.History at 0x164dd7ad0>"
      ]
     },
     "execution_count": 10,
     "metadata": {},
     "output_type": "execute_result"
    }
   ],
   "execution_count": 10
  },
  {
   "metadata": {},
   "cell_type": "markdown",
   "source": [
    "## Predykcja\n",
    "#### Wczytanie zbioru danych za pomocą csv (zawierającego etykiety i ścieżki)"
   ],
   "id": "4ce22e4bda13e964"
  },
  {
   "metadata": {
    "ExecuteTime": {
     "end_time": "2024-06-06T21:06:58.998921Z",
     "start_time": "2024-06-06T21:06:58.985393Z"
    }
   },
   "cell_type": "code",
   "source": "test_df = pd.read_csv(\"sources/signs/Test.csv\")",
   "id": "73bbd04a3e3ee64a",
   "outputs": [],
   "execution_count": 11
  },
  {
   "metadata": {
    "ExecuteTime": {
     "end_time": "2024-06-06T21:07:02.112617Z",
     "start_time": "2024-06-06T21:06:58.999458Z"
    }
   },
   "cell_type": "code",
   "source": [
    "test_images = []\n",
    "\n",
    "for i in tqdm(range(test_df.shape[0])):\n",
    "    img = utils.load_img(\n",
    "        test_df['Path'][i],\n",
    "        target_size = (28,28,3)\n",
    "    )\n",
    "    img = utils.img_to_array(img)\n",
    "    img = img / 255\n",
    "    test_images.append(img)\n",
    "\n",
    "X_test = np.array(test_images)"
   ],
   "id": "a692976b674ddfd8",
   "outputs": [
    {
     "name": "stderr",
     "output_type": "stream",
     "text": [
      "100%|██████████| 12630/12630 [00:03<00:00, 4099.06it/s]\n"
     ]
    }
   ],
   "execution_count": 12
  },
  {
   "metadata": {
    "ExecuteTime": {
     "end_time": "2024-06-06T21:07:02.117527Z",
     "start_time": "2024-06-06T21:07:02.114317Z"
    }
   },
   "cell_type": "code",
   "source": [
    "y_test = utils.to_categorical(\n",
    "    test_df['ClassId'].values\n",
    ")"
   ],
   "id": "ec6345410e0cde25",
   "outputs": [],
   "execution_count": 13
  },
  {
   "metadata": {},
   "cell_type": "markdown",
   "source": "#### Utworzenie macierzy wyników",
   "id": "b80ff2be2e65acf9"
  },
  {
   "metadata": {
    "ExecuteTime": {
     "end_time": "2024-06-06T21:08:13.802122Z",
     "start_time": "2024-06-06T21:07:02.118169Z"
    }
   },
   "cell_type": "code",
   "source": "model.fit(X, y, epochs=3, validation_data=(X_test, y_test))",
   "id": "74fba4ab0a0eb710",
   "outputs": [
    {
     "name": "stdout",
     "output_type": "stream",
     "text": [
      "Epoch 1/3\n",
      "\u001B[1m1226/1226\u001B[0m \u001B[32m━━━━━━━━━━━━━━━━━━━━\u001B[0m\u001B[37m\u001B[0m \u001B[1m24s\u001B[0m 19ms/step - accuracy: 0.9857 - loss: 0.0522 - val_accuracy: 0.9375 - val_loss: 0.2698\n",
      "Epoch 2/3\n",
      "\u001B[1m1226/1226\u001B[0m \u001B[32m━━━━━━━━━━━━━━━━━━━━\u001B[0m\u001B[37m\u001B[0m \u001B[1m25s\u001B[0m 20ms/step - accuracy: 0.9926 - loss: 0.0244 - val_accuracy: 0.9362 - val_loss: 0.2783\n",
      "Epoch 3/3\n",
      "\u001B[1m1226/1226\u001B[0m \u001B[32m━━━━━━━━━━━━━━━━━━━━\u001B[0m\u001B[37m\u001B[0m \u001B[1m23s\u001B[0m 19ms/step - accuracy: 0.9925 - loss: 0.0253 - val_accuracy: 0.9368 - val_loss: 0.2910\n"
     ]
    },
    {
     "data": {
      "text/plain": [
       "<keras.src.callbacks.history.History at 0x16486a7d0>"
      ]
     },
     "execution_count": 14,
     "metadata": {},
     "output_type": "execute_result"
    }
   ],
   "execution_count": 14
  },
  {
   "metadata": {
    "ExecuteTime": {
     "end_time": "2024-06-06T21:08:15.460430Z",
     "start_time": "2024-06-06T21:08:13.804681Z"
    }
   },
   "cell_type": "code",
   "source": "predictions = np.argmax(model.predict(X_test), axis = 1)",
   "id": "a1ff577fa034c155",
   "outputs": [
    {
     "name": "stdout",
     "output_type": "stream",
     "text": [
      "\u001B[1m395/395\u001B[0m \u001B[32m━━━━━━━━━━━━━━━━━━━━\u001B[0m\u001B[37m\u001B[0m \u001B[1m2s\u001B[0m 4ms/step\n"
     ]
    }
   ],
   "execution_count": 15
  },
  {
   "metadata": {},
   "cell_type": "markdown",
   "source": "#### Przedstawienie wyników dla wybranego przykładu",
   "id": "502a83f8d1fcd94c"
  },
  {
   "metadata": {
    "ExecuteTime": {
     "end_time": "2024-06-06T21:08:15.701197Z",
     "start_time": "2024-06-06T21:08:15.460957Z"
    }
   },
   "cell_type": "code",
   "source": [
    "img_number = 500\n",
    "\n",
    "img = plt.imread(test_df[\"Path\"][img_number])\n",
    "plt.imshow(img)\n",
    "\n",
    "print(\"Actual\\t\\t\", test_df[\"ClassId\"][img_number])\n",
    "print(\"Predicted\\t\", predictions[img_number] )"
   ],
   "id": "6cbc2db43082170e",
   "outputs": [
    {
     "name": "stdout",
     "output_type": "stream",
     "text": [
      "Actual\t\t 22\n",
      "Predicted\t 22\n"
     ]
    },
    {
     "data": {
      "text/plain": [
       "<Figure size 640x480 with 1 Axes>"
      ],
      "image/png": "[encoded data removed]"
     },
     "metadata": {},
     "output_type": "display_data"
    }
   ],
   "execution_count": 16
  }
 ],
 "metadata": {
  "kernelspec": {
   "display_name": "Python 3",
   "language": "python",
   "name": "python3"
  },
  "language_info": {
   "codemirror_mode": {
    "name": "ipython",
    "version": 2
   },
   "file_extension": ".py",
   "mimetype": "text/x-python",
   "name": "python",
   "nbconvert_exporter": "python",
   "pygments_lexer": "ipython2",
   "version": "2.7.6"
  }
 },
 "nbformat": 4,
 "nbformat_minor": 5
}
